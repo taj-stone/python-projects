{
 "cells": [
  {
   "cell_type": "code",
   "execution_count": null,
   "id": "4e10f8c7",
   "metadata": {},
   "outputs": [],
   "source": [
    "import random\n"
   ]
  },
  {
   "cell_type": "code",
   "execution_count": null,
   "id": "915bf352",
   "metadata": {},
   "outputs": [],
   "source": [
    "suits = ('Hearts', 'Diamonds', 'Spades', 'Clubs')\n",
    "ranks = ('Two', 'Three', 'Four', 'Five', 'Six', 'Seven', 'Eight', 'Nine', 'Ten', 'Jack', 'Queen', 'King', 'Ace')\n",
    "values = {'Two':2, 'Three':3, 'Four':4, 'Five':5, 'Six':6, 'Seven':7, 'Eight':8, \n",
    "            'Nine':9, 'Ten':10, 'Jack':11, 'Queen':12, 'King':13, 'Ace':14}"
   ]
  },
  {
   "cell_type": "code",
   "execution_count": null,
   "id": "850eb700",
   "metadata": {},
   "outputs": [],
   "source": [
    "class Card:\n",
    "    \n",
    "    def __init__(self,suit,rank):\n",
    "        self.suit = suit\n",
    "        self.rank = rank\n",
    "        self.value = values[rank]\n",
    "        \n",
    "    def __str__(self):\n",
    "        return self.rank + ' of ' + self.suit\n"
   ]
  },
  {
   "cell_type": "code",
   "execution_count": null,
   "id": "e1bb8c21",
   "metadata": {},
   "outputs": [],
   "source": [
    "suits[0]"
   ]
  },
  {
   "cell_type": "code",
   "execution_count": null,
   "id": "e82ae9f5",
   "metadata": {},
   "outputs": [],
   "source": [
    "ranks[3]"
   ]
  },
  {
   "cell_type": "code",
   "execution_count": null,
   "id": "0f743f28",
   "metadata": {},
   "outputs": [],
   "source": [
    "four_diamonds = Card(suits[1], ranks[2])"
   ]
  },
  {
   "cell_type": "code",
   "execution_count": null,
   "id": "cc58ffd0",
   "metadata": {},
   "outputs": [],
   "source": [
    "print(four_diamonds)"
   ]
  },
  {
   "cell_type": "code",
   "execution_count": null,
   "id": "df555428",
   "metadata": {},
   "outputs": [],
   "source": [
    "four_diamonds.rank"
   ]
  },
  {
   "cell_type": "code",
   "execution_count": null,
   "id": "f1fbfdfd",
   "metadata": {},
   "outputs": [],
   "source": [
    "four_diamonds.suit"
   ]
  },
  {
   "cell_type": "code",
   "execution_count": null,
   "id": "09c6a888",
   "metadata": {},
   "outputs": [],
   "source": [
    "four_diamonds.value"
   ]
  },
  {
   "cell_type": "code",
   "execution_count": null,
   "id": "1560216e",
   "metadata": {},
   "outputs": [],
   "source": [
    "values[four_diamonds.rank]"
   ]
  },
  {
   "cell_type": "code",
   "execution_count": null,
   "id": "e01fbb0f",
   "metadata": {},
   "outputs": [],
   "source": [
    "class Deck:\n",
    "    \n",
    "    def __init__(self):\n",
    "        # Only happens once when creating a new deck\n",
    "        self.all_cards = []\n",
    "        for suit in suits:\n",
    "            for rank in ranks:\n",
    "                self.all_cards.append(Card(suit, rank))\n",
    "                \n",
    "    def shuffle(self):\n",
    "        #Doesnt return anything. Done in place NoneType\n",
    "        random.shuffle(self.all_cards)\n",
    "        \n",
    "    def deal_one(self):\n",
    "        # Removes on card from the list of all_cards\n",
    "        return self.all_cards.pop()"
   ]
  },
  {
   "cell_type": "code",
   "execution_count": null,
   "id": "ae391028",
   "metadata": {},
   "outputs": [],
   "source": [
    "my_deck = Deck()"
   ]
  },
  {
   "cell_type": "code",
   "execution_count": null,
   "id": "1a54432f",
   "metadata": {},
   "outputs": [],
   "source": [
    "len(my_deck.all_cards)"
   ]
  },
  {
   "cell_type": "code",
   "execution_count": null,
   "id": "1270bade",
   "metadata": {},
   "outputs": [],
   "source": [
    "print(my_deck.all_cards[1])"
   ]
  },
  {
   "cell_type": "code",
   "execution_count": null,
   "id": "4ffcb1c4",
   "metadata": {},
   "outputs": [],
   "source": [
    "my_deck.shuffle()"
   ]
  },
  {
   "cell_type": "code",
   "execution_count": null,
   "id": "6208dd50",
   "metadata": {},
   "outputs": [],
   "source": [
    "print(my_deck.all_cards[1])"
   ]
  },
  {
   "cell_type": "code",
   "execution_count": null,
   "id": "07f6e27d",
   "metadata": {},
   "outputs": [],
   "source": [
    "my_card = my_deck.deal_one()\n"
   ]
  },
  {
   "cell_type": "code",
   "execution_count": null,
   "id": "d2763302",
   "metadata": {},
   "outputs": [],
   "source": [
    "print(my_card)"
   ]
  },
  {
   "cell_type": "code",
   "execution_count": null,
   "id": "0764f9c5",
   "metadata": {},
   "outputs": [],
   "source": [
    "len(my_deck.all_cards)"
   ]
  },
  {
   "cell_type": "code",
   "execution_count": null,
   "id": "cc6f16ff",
   "metadata": {},
   "outputs": [],
   "source": [
    "class Player:\n",
    "    \n",
    "    def __init__(self, name):\n",
    "        self.name = name\n",
    "        #New player has no cards\n",
    "        self.all_cards = []\n",
    "        \n",
    "    def remove_one(self):\n",
    "        # Note we remove one card from the list of all_cards\n",
    "        # We state 0 to remove from the \"top\" of the deck\n",
    "        # We'll imagine index -1 as the bottom of the deck\n",
    "        return self.all_cards.pop(0)\n",
    "    \n",
    "    def add_cards(self, new_cards):\n",
    "        if type(new_cards) == type([]):\n",
    "            self.all_cards.extend(new_cards)\n",
    "        else:\n",
    "            self.all_cards.append(new_cards)\n",
    "            \n",
    "    def __str__(self):\n",
    "        return f'Player {self.name} has {len(self.all_cards)} cards.'"
   ]
  },
  {
   "cell_type": "code",
   "execution_count": null,
   "id": "38b9a54c",
   "metadata": {},
   "outputs": [],
   "source": [
    "player_one = Player('P1')"
   ]
  },
  {
   "cell_type": "code",
   "execution_count": null,
   "id": "f1bd767b",
   "metadata": {},
   "outputs": [],
   "source": [
    "print(player_one)"
   ]
  },
  {
   "cell_type": "code",
   "execution_count": null,
   "id": "7f005c44",
   "metadata": {},
   "outputs": [],
   "source": [
    "four_diamonds"
   ]
  },
  {
   "cell_type": "code",
   "execution_count": null,
   "id": "70865ce7",
   "metadata": {},
   "outputs": [],
   "source": [
    "player_one.add_cards(four_diamonds)"
   ]
  },
  {
   "cell_type": "code",
   "execution_count": null,
   "id": "65c6e6d7",
   "metadata": {},
   "outputs": [],
   "source": [
    "print(player_one)"
   ]
  },
  {
   "cell_type": "code",
   "execution_count": null,
   "id": "2c35eacc",
   "metadata": {},
   "outputs": [],
   "source": [
    "player_one.add_cards([four_diamonds,four_diamonds,four_diamonds])"
   ]
  },
  {
   "cell_type": "code",
   "execution_count": null,
   "id": "58b18ca7",
   "metadata": {},
   "outputs": [],
   "source": [
    "print(player_one)"
   ]
  },
  {
   "cell_type": "code",
   "execution_count": null,
   "id": "c1ee0031",
   "metadata": {},
   "outputs": [],
   "source": [
    "player_one = Player('P1')\n",
    "player_two = Player('P2')"
   ]
  },
  {
   "cell_type": "code",
   "execution_count": null,
   "id": "5fac14e0",
   "metadata": {},
   "outputs": [],
   "source": [
    "new_deck = Deck()"
   ]
  },
  {
   "cell_type": "code",
   "execution_count": null,
   "id": "c618371d",
   "metadata": {},
   "outputs": [],
   "source": [
    "new_deck.shuffle()"
   ]
  },
  {
   "cell_type": "code",
   "execution_count": null,
   "id": "9d95b821",
   "metadata": {},
   "outputs": [],
   "source": [
    "len(new_deck.all_cards)/2"
   ]
  },
  {
   "cell_type": "code",
   "execution_count": null,
   "id": "debe5341",
   "metadata": {},
   "outputs": [],
   "source": [
    "for x in range (26):\n",
    "    player_one.add_cards(new_deck.deal_one())\n",
    "    player_two.add_cards(new_deck.deal_one())"
   ]
  },
  {
   "cell_type": "code",
   "execution_count": null,
   "id": "be82be47",
   "metadata": {},
   "outputs": [],
   "source": [
    "len(new_deck.all_cards)"
   ]
  },
  {
   "cell_type": "code",
   "execution_count": null,
   "id": "ce91dde4",
   "metadata": {},
   "outputs": [],
   "source": [
    "len(player_two.all_cards)"
   ]
  },
  {
   "cell_type": "code",
   "execution_count": null,
   "id": "164d6c9e",
   "metadata": {},
   "outputs": [],
   "source": [
    "import pdb"
   ]
  },
  {
   "cell_type": "code",
   "execution_count": null,
   "id": "230b5a88",
   "metadata": {},
   "outputs": [],
   "source": [
    "game_on = True"
   ]
  },
  {
   "cell_type": "code",
   "execution_count": null,
   "id": "bf21cba2",
   "metadata": {},
   "outputs": [],
   "source": [
    "round_num = 0\n",
    "\n",
    "while game_on:\n",
    "    \n",
    "    round_num += 1\n",
    "    print(f\"Round {round_num}\")\n",
    "    \n",
    "    #Check to see if a player is out of cards\n",
    "    if len(player_one.all_cards) == 0:\n",
    "        print(\"Player 1 is out of cards! Game Over\")\n",
    "        print(\"Player Two Wins!\")\n",
    "        game_on = False\n",
    "        break\n",
    "\n",
    "    if len(player_two.all_cards) == 0:\n",
    "        print(\"Player 2 is out of cards! Game Over\")\n",
    "        print(\"Player One Wins!\")\n",
    "        game_on = False\n",
    "        break\n",
    "        \n",
    "     #OtherWise Game is still on\n",
    "    \n",
    "    player_one_cards = []\n",
    "    player_one_cards.append(player_one.remove_one())\n",
    "\n",
    "    player_two_cards = []\n",
    "    player_two_cards.append(player_two.remove_one())\n",
    "    \n",
    "    at_war = True\n",
    "    \n",
    "    while at_war:\n",
    "        \n",
    "        if player_one_cards[-1].value > player_two_cards[-1].value:\n",
    "        \n",
    "            #Player one gets cards\n",
    "            player_one.add_cards(player_one_cards)\n",
    "            player_one.add_cards(player_two_cards)\n",
    "            \n",
    "            #No longer at war time for next round\n",
    "            \n",
    "            at_war = False\n",
    "            \n",
    "        elif player_one_cards[-1].value < player_two_cards[-1].value:\n",
    "            \n",
    "            #player two gets cards\n",
    "            player_two.add_cards(player_two_cards)\n",
    "            player_two.add_cards(player_one_cards)\n",
    "            \n",
    "            #No longer at war time for next round\n",
    "            \n",
    "            at_war = False\n",
    "            \n",
    "        else:\n",
    "            print('WAR!')\n",
    "            # This occurs when the cards are equal.\n",
    "            # We'll grab another card each and continue the current war.\n",
    "            \n",
    "            # First check to see if player has enough cards\n",
    "            \n",
    "            # Check to see if a player is out of cards:\n",
    "            if len(player_one.all_cards) < 5:\n",
    "                print(\"Player 1 unable to play WAR! Game Over\")\n",
    "                print(\"Player 2 Wins!\")\n",
    "                game_on = False\n",
    "                break\n",
    "                \n",
    "            elif len(player_two.all_cards) < 5:\n",
    "                print(\"Player 2 unable to play WAR! Game Over\")\n",
    "                print(\"Player 1 Wins!\")\n",
    "                game_on = False\n",
    "                break\n",
    "\n",
    "             #Otherwise, still at War\n",
    "            else:\n",
    "                for num in range(5):\n",
    "                    player_one_cards.append(player_one.remove_one())\n",
    "                    player_two_cards.append(player_two.remove_one())\n",
    "\n"
   ]
  },
  {
   "cell_type": "code",
   "execution_count": null,
   "id": "8da1b7c2",
   "metadata": {},
   "outputs": [],
   "source": []
  },
  {
   "cell_type": "code",
   "execution_count": null,
   "id": "4cb4d903",
   "metadata": {},
   "outputs": [],
   "source": []
  }
 ],
 "metadata": {
  "kernelspec": {
   "display_name": "Python 3",
   "language": "python",
   "name": "python3"
  },
  "language_info": {
   "codemirror_mode": {
    "name": "ipython",
    "version": 3
   },
   "file_extension": ".py",
   "mimetype": "text/x-python",
   "name": "python",
   "nbconvert_exporter": "python",
   "pygments_lexer": "ipython3",
   "version": "3.8.8"
  }
 },
 "nbformat": 4,
 "nbformat_minor": 5
}
